{
 "cells": [
  {
   "cell_type": "code",
   "execution_count": 1,
   "id": "a147d704",
   "metadata": {
    "_cell_guid": "b1076dfc-b9ad-4769-8c92-a6c4dae69d19",
    "_uuid": "8f2839f25d086af736a60e9eeb907d3b93b6e0e5",
    "execution": {
     "iopub.execute_input": "2022-06-09T08:13:30.172722Z",
     "iopub.status.busy": "2022-06-09T08:13:30.172257Z",
     "iopub.status.idle": "2022-06-09T08:13:30.190456Z",
     "shell.execute_reply": "2022-06-09T08:13:30.188352Z"
    },
    "papermill": {
     "duration": 0.03057,
     "end_time": "2022-06-09T08:13:30.192819",
     "exception": false,
     "start_time": "2022-06-09T08:13:30.162249",
     "status": "completed"
    },
    "tags": []
   },
   "outputs": [
    {
     "name": "stdout",
     "output_type": "stream",
     "text": [
      "/kaggle/input/titanic/train_and_test2.csv\n"
     ]
    }
   ],
   "source": [
    "# This Python 3 environment comes with many helpful analytics libraries installed\n",
    "# It is defined by the kaggle/python Docker image: https://github.com/kaggle/docker-python\n",
    "# For example, here's several helpful packages to load\n",
    "\n",
    "import numpy as np # linear algebra\n",
    "import pandas as pd # data processing, CSV file I/O (e.g. pd.read_csv)\n",
    "\n",
    "# Input data files are available in the read-only \"../input/\" directory\n",
    "# For example, running this (by clicking run or pressing Shift+Enter) will list all files under the input directory\n",
    "\n",
    "import os\n",
    "for dirname, _, filenames in os.walk('/kaggle/input'):\n",
    "    for filename in filenames:\n",
    "        print(os.path.join(dirname, filename))\n",
    "\n",
    "# You can write up to 20GB to the current directory (/kaggle/working/) that gets preserved as output when you create a version using \"Save & Run All\" \n",
    "# You can also write temporary files to /kaggle/temp/, but they won't be saved outside of the current session"
   ]
  },
  {
   "cell_type": "code",
   "execution_count": 2,
   "id": "7d95db43",
   "metadata": {
    "execution": {
     "iopub.execute_input": "2022-06-09T08:13:30.205764Z",
     "iopub.status.busy": "2022-06-09T08:13:30.204830Z",
     "iopub.status.idle": "2022-06-09T08:13:31.661350Z",
     "shell.execute_reply": "2022-06-09T08:13:31.660179Z"
    },
    "papermill": {
     "duration": 1.465092,
     "end_time": "2022-06-09T08:13:31.663595",
     "exception": false,
     "start_time": "2022-06-09T08:13:30.198503",
     "status": "completed"
    },
    "tags": []
   },
   "outputs": [],
   "source": [
    "import pandas as pd\n",
    "import numpy as np\n",
    "import matplotlib.pyplot as plt\n",
    "from sklearn.linear_model import Perceptron\n",
    "import seaborn as sns"
   ]
  },
  {
   "cell_type": "code",
   "execution_count": 3,
   "id": "2b9229e7",
   "metadata": {
    "execution": {
     "iopub.execute_input": "2022-06-09T08:13:31.675777Z",
     "iopub.status.busy": "2022-06-09T08:13:31.675358Z",
     "iopub.status.idle": "2022-06-09T08:13:31.697129Z",
     "shell.execute_reply": "2022-06-09T08:13:31.696229Z"
    },
    "papermill": {
     "duration": 0.030756,
     "end_time": "2022-06-09T08:13:31.699730",
     "exception": false,
     "start_time": "2022-06-09T08:13:31.668974",
     "status": "completed"
    },
    "tags": []
   },
   "outputs": [],
   "source": [
    "df = pd.read_csv(\"/kaggle/input/titanic/train_and_test2.csv\")"
   ]
  },
  {
   "cell_type": "code",
   "execution_count": 4,
   "id": "52641fc6",
   "metadata": {
    "execution": {
     "iopub.execute_input": "2022-06-09T08:13:31.711959Z",
     "iopub.status.busy": "2022-06-09T08:13:31.711529Z",
     "iopub.status.idle": "2022-06-09T08:13:31.747593Z",
     "shell.execute_reply": "2022-06-09T08:13:31.746444Z"
    },
    "papermill": {
     "duration": 0.045386,
     "end_time": "2022-06-09T08:13:31.750486",
     "exception": false,
     "start_time": "2022-06-09T08:13:31.705100",
     "status": "completed"
    },
    "tags": []
   },
   "outputs": [
    {
     "data": {
      "text/html": [
       "<div>\n",
       "<style scoped>\n",
       "    .dataframe tbody tr th:only-of-type {\n",
       "        vertical-align: middle;\n",
       "    }\n",
       "\n",
       "    .dataframe tbody tr th {\n",
       "        vertical-align: top;\n",
       "    }\n",
       "\n",
       "    .dataframe thead th {\n",
       "        text-align: right;\n",
       "    }\n",
       "</style>\n",
       "<table border=\"1\" class=\"dataframe\">\n",
       "  <thead>\n",
       "    <tr style=\"text-align: right;\">\n",
       "      <th></th>\n",
       "      <th>Passengerid</th>\n",
       "      <th>Age</th>\n",
       "      <th>Fare</th>\n",
       "      <th>Sex</th>\n",
       "      <th>sibsp</th>\n",
       "      <th>zero</th>\n",
       "      <th>zero.1</th>\n",
       "      <th>zero.2</th>\n",
       "      <th>zero.3</th>\n",
       "      <th>zero.4</th>\n",
       "      <th>...</th>\n",
       "      <th>zero.12</th>\n",
       "      <th>zero.13</th>\n",
       "      <th>zero.14</th>\n",
       "      <th>Pclass</th>\n",
       "      <th>zero.15</th>\n",
       "      <th>zero.16</th>\n",
       "      <th>Embarked</th>\n",
       "      <th>zero.17</th>\n",
       "      <th>zero.18</th>\n",
       "      <th>2urvived</th>\n",
       "    </tr>\n",
       "  </thead>\n",
       "  <tbody>\n",
       "    <tr>\n",
       "      <th>0</th>\n",
       "      <td>1</td>\n",
       "      <td>22.0</td>\n",
       "      <td>7.2500</td>\n",
       "      <td>0</td>\n",
       "      <td>1</td>\n",
       "      <td>0</td>\n",
       "      <td>0</td>\n",
       "      <td>0</td>\n",
       "      <td>0</td>\n",
       "      <td>0</td>\n",
       "      <td>...</td>\n",
       "      <td>0</td>\n",
       "      <td>0</td>\n",
       "      <td>0</td>\n",
       "      <td>3</td>\n",
       "      <td>0</td>\n",
       "      <td>0</td>\n",
       "      <td>2.0</td>\n",
       "      <td>0</td>\n",
       "      <td>0</td>\n",
       "      <td>0</td>\n",
       "    </tr>\n",
       "    <tr>\n",
       "      <th>1</th>\n",
       "      <td>2</td>\n",
       "      <td>38.0</td>\n",
       "      <td>71.2833</td>\n",
       "      <td>1</td>\n",
       "      <td>1</td>\n",
       "      <td>0</td>\n",
       "      <td>0</td>\n",
       "      <td>0</td>\n",
       "      <td>0</td>\n",
       "      <td>0</td>\n",
       "      <td>...</td>\n",
       "      <td>0</td>\n",
       "      <td>0</td>\n",
       "      <td>0</td>\n",
       "      <td>1</td>\n",
       "      <td>0</td>\n",
       "      <td>0</td>\n",
       "      <td>0.0</td>\n",
       "      <td>0</td>\n",
       "      <td>0</td>\n",
       "      <td>1</td>\n",
       "    </tr>\n",
       "    <tr>\n",
       "      <th>2</th>\n",
       "      <td>3</td>\n",
       "      <td>26.0</td>\n",
       "      <td>7.9250</td>\n",
       "      <td>1</td>\n",
       "      <td>0</td>\n",
       "      <td>0</td>\n",
       "      <td>0</td>\n",
       "      <td>0</td>\n",
       "      <td>0</td>\n",
       "      <td>0</td>\n",
       "      <td>...</td>\n",
       "      <td>0</td>\n",
       "      <td>0</td>\n",
       "      <td>0</td>\n",
       "      <td>3</td>\n",
       "      <td>0</td>\n",
       "      <td>0</td>\n",
       "      <td>2.0</td>\n",
       "      <td>0</td>\n",
       "      <td>0</td>\n",
       "      <td>1</td>\n",
       "    </tr>\n",
       "    <tr>\n",
       "      <th>3</th>\n",
       "      <td>4</td>\n",
       "      <td>35.0</td>\n",
       "      <td>53.1000</td>\n",
       "      <td>1</td>\n",
       "      <td>1</td>\n",
       "      <td>0</td>\n",
       "      <td>0</td>\n",
       "      <td>0</td>\n",
       "      <td>0</td>\n",
       "      <td>0</td>\n",
       "      <td>...</td>\n",
       "      <td>0</td>\n",
       "      <td>0</td>\n",
       "      <td>0</td>\n",
       "      <td>1</td>\n",
       "      <td>0</td>\n",
       "      <td>0</td>\n",
       "      <td>2.0</td>\n",
       "      <td>0</td>\n",
       "      <td>0</td>\n",
       "      <td>1</td>\n",
       "    </tr>\n",
       "    <tr>\n",
       "      <th>4</th>\n",
       "      <td>5</td>\n",
       "      <td>35.0</td>\n",
       "      <td>8.0500</td>\n",
       "      <td>0</td>\n",
       "      <td>0</td>\n",
       "      <td>0</td>\n",
       "      <td>0</td>\n",
       "      <td>0</td>\n",
       "      <td>0</td>\n",
       "      <td>0</td>\n",
       "      <td>...</td>\n",
       "      <td>0</td>\n",
       "      <td>0</td>\n",
       "      <td>0</td>\n",
       "      <td>3</td>\n",
       "      <td>0</td>\n",
       "      <td>0</td>\n",
       "      <td>2.0</td>\n",
       "      <td>0</td>\n",
       "      <td>0</td>\n",
       "      <td>0</td>\n",
       "    </tr>\n",
       "  </tbody>\n",
       "</table>\n",
       "<p>5 rows × 28 columns</p>\n",
       "</div>"
      ],
      "text/plain": [
       "   Passengerid   Age     Fare  Sex  sibsp  zero  zero.1  zero.2  zero.3  \\\n",
       "0            1  22.0   7.2500    0      1     0       0       0       0   \n",
       "1            2  38.0  71.2833    1      1     0       0       0       0   \n",
       "2            3  26.0   7.9250    1      0     0       0       0       0   \n",
       "3            4  35.0  53.1000    1      1     0       0       0       0   \n",
       "4            5  35.0   8.0500    0      0     0       0       0       0   \n",
       "\n",
       "   zero.4  ...  zero.12  zero.13  zero.14  Pclass  zero.15  zero.16  Embarked  \\\n",
       "0       0  ...        0        0        0       3        0        0       2.0   \n",
       "1       0  ...        0        0        0       1        0        0       0.0   \n",
       "2       0  ...        0        0        0       3        0        0       2.0   \n",
       "3       0  ...        0        0        0       1        0        0       2.0   \n",
       "4       0  ...        0        0        0       3        0        0       2.0   \n",
       "\n",
       "   zero.17  zero.18  2urvived  \n",
       "0        0        0         0  \n",
       "1        0        0         1  \n",
       "2        0        0         1  \n",
       "3        0        0         1  \n",
       "4        0        0         0  \n",
       "\n",
       "[5 rows x 28 columns]"
      ]
     },
     "execution_count": 4,
     "metadata": {},
     "output_type": "execute_result"
    }
   ],
   "source": [
    "df.head()"
   ]
  },
  {
   "cell_type": "code",
   "execution_count": 5,
   "id": "f92c9557",
   "metadata": {
    "execution": {
     "iopub.execute_input": "2022-06-09T08:13:31.764849Z",
     "iopub.status.busy": "2022-06-09T08:13:31.763740Z",
     "iopub.status.idle": "2022-06-09T08:13:31.783769Z",
     "shell.execute_reply": "2022-06-09T08:13:31.782751Z"
    },
    "papermill": {
     "duration": 0.029301,
     "end_time": "2022-06-09T08:13:31.786072",
     "exception": false,
     "start_time": "2022-06-09T08:13:31.756771",
     "status": "completed"
    },
    "tags": []
   },
   "outputs": [
    {
     "data": {
      "text/html": [
       "<div>\n",
       "<style scoped>\n",
       "    .dataframe tbody tr th:only-of-type {\n",
       "        vertical-align: middle;\n",
       "    }\n",
       "\n",
       "    .dataframe tbody tr th {\n",
       "        vertical-align: top;\n",
       "    }\n",
       "\n",
       "    .dataframe thead th {\n",
       "        text-align: right;\n",
       "    }\n",
       "</style>\n",
       "<table border=\"1\" class=\"dataframe\">\n",
       "  <thead>\n",
       "    <tr style=\"text-align: right;\">\n",
       "      <th></th>\n",
       "      <th>Age</th>\n",
       "      <th>Fare</th>\n",
       "      <th>2urvived</th>\n",
       "    </tr>\n",
       "  </thead>\n",
       "  <tbody>\n",
       "    <tr>\n",
       "      <th>0</th>\n",
       "      <td>22.0</td>\n",
       "      <td>7.2500</td>\n",
       "      <td>0</td>\n",
       "    </tr>\n",
       "    <tr>\n",
       "      <th>1</th>\n",
       "      <td>38.0</td>\n",
       "      <td>71.2833</td>\n",
       "      <td>1</td>\n",
       "    </tr>\n",
       "    <tr>\n",
       "      <th>2</th>\n",
       "      <td>26.0</td>\n",
       "      <td>7.9250</td>\n",
       "      <td>1</td>\n",
       "    </tr>\n",
       "    <tr>\n",
       "      <th>3</th>\n",
       "      <td>35.0</td>\n",
       "      <td>53.1000</td>\n",
       "      <td>1</td>\n",
       "    </tr>\n",
       "    <tr>\n",
       "      <th>4</th>\n",
       "      <td>35.0</td>\n",
       "      <td>8.0500</td>\n",
       "      <td>0</td>\n",
       "    </tr>\n",
       "    <tr>\n",
       "      <th>...</th>\n",
       "      <td>...</td>\n",
       "      <td>...</td>\n",
       "      <td>...</td>\n",
       "    </tr>\n",
       "    <tr>\n",
       "      <th>1304</th>\n",
       "      <td>28.0</td>\n",
       "      <td>8.0500</td>\n",
       "      <td>0</td>\n",
       "    </tr>\n",
       "    <tr>\n",
       "      <th>1305</th>\n",
       "      <td>39.0</td>\n",
       "      <td>108.9000</td>\n",
       "      <td>0</td>\n",
       "    </tr>\n",
       "    <tr>\n",
       "      <th>1306</th>\n",
       "      <td>38.5</td>\n",
       "      <td>7.2500</td>\n",
       "      <td>0</td>\n",
       "    </tr>\n",
       "    <tr>\n",
       "      <th>1307</th>\n",
       "      <td>28.0</td>\n",
       "      <td>8.0500</td>\n",
       "      <td>0</td>\n",
       "    </tr>\n",
       "    <tr>\n",
       "      <th>1308</th>\n",
       "      <td>28.0</td>\n",
       "      <td>22.3583</td>\n",
       "      <td>0</td>\n",
       "    </tr>\n",
       "  </tbody>\n",
       "</table>\n",
       "<p>1309 rows × 3 columns</p>\n",
       "</div>"
      ],
      "text/plain": [
       "       Age      Fare  2urvived\n",
       "0     22.0    7.2500         0\n",
       "1     38.0   71.2833         1\n",
       "2     26.0    7.9250         1\n",
       "3     35.0   53.1000         1\n",
       "4     35.0    8.0500         0\n",
       "...    ...       ...       ...\n",
       "1304  28.0    8.0500         0\n",
       "1305  39.0  108.9000         0\n",
       "1306  38.5    7.2500         0\n",
       "1307  28.0    8.0500         0\n",
       "1308  28.0   22.3583         0\n",
       "\n",
       "[1309 rows x 3 columns]"
      ]
     },
     "execution_count": 5,
     "metadata": {},
     "output_type": "execute_result"
    }
   ],
   "source": [
    "df = df[['Age','Fare', '2urvived']]\n",
    "df"
   ]
  },
  {
   "cell_type": "code",
   "execution_count": 6,
   "id": "a31ec17f",
   "metadata": {
    "execution": {
     "iopub.execute_input": "2022-06-09T08:13:31.800173Z",
     "iopub.status.busy": "2022-06-09T08:13:31.799494Z",
     "iopub.status.idle": "2022-06-09T08:13:31.812000Z",
     "shell.execute_reply": "2022-06-09T08:13:31.810925Z"
    },
    "papermill": {
     "duration": 0.022453,
     "end_time": "2022-06-09T08:13:31.814393",
     "exception": false,
     "start_time": "2022-06-09T08:13:31.791940",
     "status": "completed"
    },
    "tags": []
   },
   "outputs": [
    {
     "data": {
      "text/html": [
       "<div>\n",
       "<style scoped>\n",
       "    .dataframe tbody tr th:only-of-type {\n",
       "        vertical-align: middle;\n",
       "    }\n",
       "\n",
       "    .dataframe tbody tr th {\n",
       "        vertical-align: top;\n",
       "    }\n",
       "\n",
       "    .dataframe thead th {\n",
       "        text-align: right;\n",
       "    }\n",
       "</style>\n",
       "<table border=\"1\" class=\"dataframe\">\n",
       "  <thead>\n",
       "    <tr style=\"text-align: right;\">\n",
       "      <th></th>\n",
       "      <th>Age</th>\n",
       "      <th>Fare</th>\n",
       "      <th>2urvived</th>\n",
       "    </tr>\n",
       "  </thead>\n",
       "  <tbody>\n",
       "    <tr>\n",
       "      <th>0</th>\n",
       "      <td>22.0</td>\n",
       "      <td>7.2500</td>\n",
       "      <td>0</td>\n",
       "    </tr>\n",
       "    <tr>\n",
       "      <th>1</th>\n",
       "      <td>38.0</td>\n",
       "      <td>71.2833</td>\n",
       "      <td>1</td>\n",
       "    </tr>\n",
       "    <tr>\n",
       "      <th>2</th>\n",
       "      <td>26.0</td>\n",
       "      <td>7.9250</td>\n",
       "      <td>1</td>\n",
       "    </tr>\n",
       "    <tr>\n",
       "      <th>3</th>\n",
       "      <td>35.0</td>\n",
       "      <td>53.1000</td>\n",
       "      <td>1</td>\n",
       "    </tr>\n",
       "    <tr>\n",
       "      <th>4</th>\n",
       "      <td>35.0</td>\n",
       "      <td>8.0500</td>\n",
       "      <td>0</td>\n",
       "    </tr>\n",
       "    <tr>\n",
       "      <th>5</th>\n",
       "      <td>28.0</td>\n",
       "      <td>8.4583</td>\n",
       "      <td>0</td>\n",
       "    </tr>\n",
       "    <tr>\n",
       "      <th>6</th>\n",
       "      <td>54.0</td>\n",
       "      <td>51.8625</td>\n",
       "      <td>0</td>\n",
       "    </tr>\n",
       "    <tr>\n",
       "      <th>7</th>\n",
       "      <td>2.0</td>\n",
       "      <td>21.0750</td>\n",
       "      <td>0</td>\n",
       "    </tr>\n",
       "    <tr>\n",
       "      <th>8</th>\n",
       "      <td>27.0</td>\n",
       "      <td>11.1333</td>\n",
       "      <td>1</td>\n",
       "    </tr>\n",
       "    <tr>\n",
       "      <th>9</th>\n",
       "      <td>14.0</td>\n",
       "      <td>30.0708</td>\n",
       "      <td>1</td>\n",
       "    </tr>\n",
       "  </tbody>\n",
       "</table>\n",
       "</div>"
      ],
      "text/plain": [
       "    Age     Fare  2urvived\n",
       "0  22.0   7.2500         0\n",
       "1  38.0  71.2833         1\n",
       "2  26.0   7.9250         1\n",
       "3  35.0  53.1000         1\n",
       "4  35.0   8.0500         0\n",
       "5  28.0   8.4583         0\n",
       "6  54.0  51.8625         0\n",
       "7   2.0  21.0750         0\n",
       "8  27.0  11.1333         1\n",
       "9  14.0  30.0708         1"
      ]
     },
     "execution_count": 6,
     "metadata": {},
     "output_type": "execute_result"
    }
   ],
   "source": [
    "df = df[:10]\n",
    "df"
   ]
  },
  {
   "cell_type": "code",
   "execution_count": 7,
   "id": "db12d339",
   "metadata": {
    "execution": {
     "iopub.execute_input": "2022-06-09T08:13:31.828223Z",
     "iopub.status.busy": "2022-06-09T08:13:31.827811Z",
     "iopub.status.idle": "2022-06-09T08:13:32.131589Z",
     "shell.execute_reply": "2022-06-09T08:13:32.130755Z"
    },
    "papermill": {
     "duration": 0.313493,
     "end_time": "2022-06-09T08:13:32.134218",
     "exception": false,
     "start_time": "2022-06-09T08:13:31.820725",
     "status": "completed"
    },
    "tags": []
   },
   "outputs": [
    {
     "name": "stderr",
     "output_type": "stream",
     "text": [
      "/opt/conda/lib/python3.7/site-packages/seaborn/_decorators.py:43: FutureWarning: Pass the following variables as keyword args: x, y. From version 0.12, the only valid positional argument will be `data`, and passing other arguments without an explicit keyword will result in an error or misinterpretation.\n",
      "  FutureWarning\n"
     ]
    },
    {
     "data": {
      "text/plain": [
       "<AxesSubplot:xlabel='Age', ylabel='Fare'>"
      ]
     },
     "execution_count": 7,
     "metadata": {},
     "output_type": "execute_result"
    },
    {
     "data": {
      "image/png": "[encoded data removed]",
      "text/plain": [
       "<Figure size 432x288 with 1 Axes>"
      ]
     },
     "metadata": {
      "needs_background": "light"
     },
     "output_type": "display_data"
    }
   ],
   "source": [
    "sns.scatterplot(df['Age'],df['Fare'],hue=df['2urvived'])"
   ]
  },
  {
   "cell_type": "code",
   "execution_count": 8,
   "id": "bd93b206",
   "metadata": {
    "execution": {
     "iopub.execute_input": "2022-06-09T08:13:32.149891Z",
     "iopub.status.busy": "2022-06-09T08:13:32.148817Z",
     "iopub.status.idle": "2022-06-09T08:13:32.154840Z",
     "shell.execute_reply": "2022-06-09T08:13:32.153670Z"
    },
    "papermill": {
     "duration": 0.016133,
     "end_time": "2022-06-09T08:13:32.157150",
     "exception": false,
     "start_time": "2022-06-09T08:13:32.141017",
     "status": "completed"
    },
    "tags": []
   },
   "outputs": [],
   "source": [
    "X = df.iloc[:,:2]\n",
    "Y = df.iloc[:,-1]"
   ]
  },
  {
   "cell_type": "code",
   "execution_count": 9,
   "id": "07a678cb",
   "metadata": {
    "execution": {
     "iopub.execute_input": "2022-06-09T08:13:32.172846Z",
     "iopub.status.busy": "2022-06-09T08:13:32.172393Z",
     "iopub.status.idle": "2022-06-09T08:13:32.179661Z",
     "shell.execute_reply": "2022-06-09T08:13:32.178669Z"
    },
    "papermill": {
     "duration": 0.017506,
     "end_time": "2022-06-09T08:13:32.181688",
     "exception": false,
     "start_time": "2022-06-09T08:13:32.164182",
     "status": "completed"
    },
    "tags": []
   },
   "outputs": [
    {
     "data": {
      "text/plain": [
       "0    0\n",
       "1    1\n",
       "2    1\n",
       "3    1\n",
       "4    0\n",
       "5    0\n",
       "6    0\n",
       "7    0\n",
       "8    1\n",
       "9    1\n",
       "Name: 2urvived, dtype: int64"
      ]
     },
     "execution_count": 9,
     "metadata": {},
     "output_type": "execute_result"
    }
   ],
   "source": [
    "Y"
   ]
  },
  {
   "cell_type": "code",
   "execution_count": 10,
   "id": "adeb3a42",
   "metadata": {
    "execution": {
     "iopub.execute_input": "2022-06-09T08:13:32.197534Z",
     "iopub.status.busy": "2022-06-09T08:13:32.196490Z",
     "iopub.status.idle": "2022-06-09T08:13:32.201123Z",
     "shell.execute_reply": "2022-06-09T08:13:32.200275Z"
    },
    "papermill": {
     "duration": 0.014537,
     "end_time": "2022-06-09T08:13:32.202999",
     "exception": false,
     "start_time": "2022-06-09T08:13:32.188462",
     "status": "completed"
    },
    "tags": []
   },
   "outputs": [],
   "source": [
    "p = Perceptron()"
   ]
  },
  {
   "cell_type": "code",
   "execution_count": 11,
   "id": "3d122d35",
   "metadata": {
    "execution": {
     "iopub.execute_input": "2022-06-09T08:13:32.218393Z",
     "iopub.status.busy": "2022-06-09T08:13:32.217801Z",
     "iopub.status.idle": "2022-06-09T08:13:32.229201Z",
     "shell.execute_reply": "2022-06-09T08:13:32.228260Z"
    },
    "papermill": {
     "duration": 0.02166,
     "end_time": "2022-06-09T08:13:32.231506",
     "exception": false,
     "start_time": "2022-06-09T08:13:32.209846",
     "status": "completed"
    },
    "tags": []
   },
   "outputs": [
    {
     "data": {
      "text/plain": [
       "Perceptron()"
      ]
     },
     "execution_count": 11,
     "metadata": {},
     "output_type": "execute_result"
    }
   ],
   "source": [
    "p.fit(X,Y)"
   ]
  },
  {
   "cell_type": "code",
   "execution_count": 12,
   "id": "3a908b50",
   "metadata": {
    "execution": {
     "iopub.execute_input": "2022-06-09T08:13:32.247167Z",
     "iopub.status.busy": "2022-06-09T08:13:32.246327Z",
     "iopub.status.idle": "2022-06-09T08:13:32.252353Z",
     "shell.execute_reply": "2022-06-09T08:13:32.251625Z"
    },
    "papermill": {
     "duration": 0.01607,
     "end_time": "2022-06-09T08:13:32.254374",
     "exception": false,
     "start_time": "2022-06-09T08:13:32.238304",
     "status": "completed"
    },
    "tags": []
   },
   "outputs": [
    {
     "data": {
      "text/plain": [
       "array([[-27.    ,  34.3914]])"
      ]
     },
     "execution_count": 12,
     "metadata": {},
     "output_type": "execute_result"
    }
   ],
   "source": [
    "p.coef_"
   ]
  },
  {
   "cell_type": "markdown",
   "id": "2c0e9cb2",
   "metadata": {
    "papermill": {
     "duration": 0.006718,
     "end_time": "2022-06-09T08:13:32.268180",
     "exception": false,
     "start_time": "2022-06-09T08:13:32.261462",
     "status": "completed"
    },
    "tags": []
   },
   "source": [
    "## coef_ shows the weights assigned to each input branch of perceptron"
   ]
  },
  {
   "cell_type": "code",
   "execution_count": 13,
   "id": "602ab42c",
   "metadata": {
    "execution": {
     "iopub.execute_input": "2022-06-09T08:13:32.284536Z",
     "iopub.status.busy": "2022-06-09T08:13:32.283426Z",
     "iopub.status.idle": "2022-06-09T08:13:32.289226Z",
     "shell.execute_reply": "2022-06-09T08:13:32.288608Z"
    },
    "papermill": {
     "duration": 0.01582,
     "end_time": "2022-06-09T08:13:32.291032",
     "exception": false,
     "start_time": "2022-06-09T08:13:32.275212",
     "status": "completed"
    },
    "tags": []
   },
   "outputs": [
    {
     "data": {
      "text/plain": [
       "array([0.])"
      ]
     },
     "execution_count": 13,
     "metadata": {},
     "output_type": "execute_result"
    }
   ],
   "source": [
    "p.intercept_"
   ]
  },
  {
   "cell_type": "markdown",
   "id": "c3888dac",
   "metadata": {
    "papermill": {
     "duration": 0.006875,
     "end_time": "2022-06-09T08:13:32.304958",
     "exception": false,
     "start_time": "2022-06-09T08:13:32.298083",
     "status": "completed"
    },
    "tags": []
   },
   "source": [
    "## intercept_ represents the bias"
   ]
  },
  {
   "cell_type": "code",
   "execution_count": 14,
   "id": "54aa1848",
   "metadata": {
    "execution": {
     "iopub.execute_input": "2022-06-09T08:13:32.321145Z",
     "iopub.status.busy": "2022-06-09T08:13:32.320135Z",
     "iopub.status.idle": "2022-06-09T08:13:32.617497Z",
     "shell.execute_reply": "2022-06-09T08:13:32.616311Z"
    },
    "papermill": {
     "duration": 0.307967,
     "end_time": "2022-06-09T08:13:32.619929",
     "exception": false,
     "start_time": "2022-06-09T08:13:32.311962",
     "status": "completed"
    },
    "tags": []
   },
   "outputs": [
    {
     "name": "stderr",
     "output_type": "stream",
     "text": [
      "/opt/conda/lib/python3.7/site-packages/sklearn/base.py:451: UserWarning: X does not have valid feature names, but Perceptron was fitted with feature names\n",
      "  \"X does not have valid feature names, but\"\n"
     ]
    },
    {
     "data": {
      "text/plain": [
       "<AxesSubplot:>"
      ]
     },
     "execution_count": 14,
     "metadata": {},
     "output_type": "execute_result"
    },
    {
     "data": {
      "image/png": "[encoded data removed]",
      "text/plain": [
       "<Figure size 432x288 with 1 Axes>"
      ]
     },
     "metadata": {
      "needs_background": "light"
     },
     "output_type": "display_data"
    }
   ],
   "source": [
    "from mlxtend.plotting import plot_decision_regions\n",
    "plot_decision_regions(X.values, Y.values, clf = p, legend=2)"
   ]
  },
  {
   "cell_type": "code",
   "execution_count": null,
   "id": "93bbdd97",
   "metadata": {
    "papermill": {
     "duration": 0.007769,
     "end_time": "2022-06-09T08:13:32.635224",
     "exception": false,
     "start_time": "2022-06-09T08:13:32.627455",
     "status": "completed"
    },
    "tags": []
   },
   "outputs": [],
   "source": []
  }
 ],
 "metadata": {
  "kernelspec": {
   "display_name": "Python 3",
   "language": "python",
   "name": "python3"
  },
  "language_info": {
   "codemirror_mode": {
    "name": "ipython",
    "version": 3
   },
   "file_extension": ".py",
   "mimetype": "text/x-python",
   "name": "python",
   "nbconvert_exporter": "python",
   "pygments_lexer": "ipython3",
   "version": "3.7.12"
  },
  "papermill": {
   "default_parameters": {},
   "duration": 13.771268,
   "end_time": "2022-06-09T08:13:33.465096",
   "environment_variables": {},
   "exception": null,
   "input_path": "__notebook__.ipynb",
   "output_path": "__notebook__.ipynb",
   "parameters": {},
   "start_time": "2022-06-09T08:13:19.693828",
   "version": "2.3.4"
  }
 },
 "nbformat": 4,
 "nbformat_minor": 5
}
