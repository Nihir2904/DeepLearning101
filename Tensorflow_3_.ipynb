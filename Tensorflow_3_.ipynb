{
  "nbformat": 4,
  "nbformat_minor": 0,
  "metadata": {
    "colab": {
      "provenance": [],
      "authorship_tag": "ABX9TyNGCmGWkdihhLTM1yAzMqaF",
      "include_colab_link": true
    },
    "kernelspec": {
      "name": "python3",
      "display_name": "Python 3"
    },
    "language_info": {
      "name": "python"
    }
  },
  "cells": [
    {
      "cell_type": "markdown",
      "metadata": {
        "id": "view-in-github",
        "colab_type": "text"
      },
      "source": [
        "<a href=\"https://colab.research.google.com/github/Nihir2904/DeepLearning101/blob/main/Tensorflow_3_.ipynb\" target=\"_parent\"><img src=\"https://colab.research.google.com/assets/colab-badge.svg\" alt=\"Open In Colab\"/></a>"
      ]
    },
    {
      "cell_type": "code",
      "execution_count": null,
      "metadata": {
        "id": "J7ojndp6oR-w"
      },
      "outputs": [],
      "source": [
        "import tensorflow as tf\n",
        "from tensorflow import keras\n",
        "from tensorflow.keras import layers, regularizers\n",
        "from tensorflow.keras.datasets import cifar10"
      ]
    },
    {
      "cell_type": "code",
      "source": [
        "(x_train, y_train), (x_test, y_test) = cifar10.load_data()\n",
        "x_train = x_train.astype(\"float32\") / 255.0\n",
        "x_test = x_test.astype(\"float32\") / 255.0"
      ],
      "metadata": {
        "colab": {
          "base_uri": "https://localhost:8080/"
        },
        "id": "oS1bd_Gzob-l",
        "outputId": "33dc025c-1156-4adf-e4b0-a1e33b00e7fb"
      },
      "execution_count": null,
      "outputs": [
        {
          "output_type": "stream",
          "name": "stdout",
          "text": [
            "Downloading data from https://www.cs.toronto.edu/~kriz/cifar-10-python.tar.gz\n",
            "170498071/170498071 [==============================] - 2s 0us/step\n"
          ]
        }
      ]
    },
    {
      "cell_type": "code",
      "source": [
        "model = keras.Sequential(\n",
        "    [\n",
        "        keras.Input(shape=(32, 32, 3)),\n",
        "        layers.Conv2D(32, 3, padding=\"valid\", activation=\"relu\"),\n",
        "        layers.MaxPooling2D(),\n",
        "        layers.Conv2D(64, 3, activation=\"relu\"),\n",
        "        layers.MaxPooling2D(),\n",
        "        layers.Conv2D(128, 3, activation=\"relu\"),\n",
        "        layers.Flatten(),\n",
        "        layers.Dense(64, activation=\"relu\"),\n",
        "        layers.Dense(10),\n",
        "    ]\n",
        ")"
      ],
      "metadata": {
        "id": "V6tGauEAokLI"
      },
      "execution_count": null,
      "outputs": []
    },
    {
      "cell_type": "code",
      "source": [
        "model.compile(\n",
        "    loss=keras.losses.SparseCategoricalCrossentropy(from_logits=True),\n",
        "    optimizer=keras.optimizers.Adam(lr=3e-4),\n",
        "    metrics=[\"accuracy\"],\n",
        ")\n",
        "\n",
        "model.fit(x_train, y_train, batch_size=64, epochs=10, verbose=2)\n",
        "model.evaluate(x_test, y_test, batch_size=64, verbose=2)"
      ],
      "metadata": {
        "colab": {
          "base_uri": "https://localhost:8080/"
        },
        "id": "Iajhcybrq-1D",
        "outputId": "3a883509-e882-4502-aa71-6bd68adedc43"
      },
      "execution_count": null,
      "outputs": [
        {
          "output_type": "stream",
          "name": "stderr",
          "text": [
            "WARNING:absl:`lr` is deprecated in Keras optimizer, please use `learning_rate` or use the legacy optimizer, e.g.,tf.keras.optimizers.legacy.Adam.\n"
          ]
        },
        {
          "output_type": "stream",
          "name": "stdout",
          "text": [
            "Epoch 1/10\n",
            "782/782 - 71s - loss: 1.5855 - accuracy: 0.4190 - 71s/epoch - 91ms/step\n",
            "Epoch 2/10\n",
            "782/782 - 71s - loss: 1.2192 - accuracy: 0.5675 - 71s/epoch - 91ms/step\n",
            "Epoch 3/10\n",
            "782/782 - 69s - loss: 1.0496 - accuracy: 0.6294 - 69s/epoch - 89ms/step\n",
            "Epoch 4/10\n",
            "782/782 - 70s - loss: 0.9491 - accuracy: 0.6694 - 70s/epoch - 90ms/step\n",
            "Epoch 5/10\n",
            "782/782 - 69s - loss: 0.8696 - accuracy: 0.6974 - 69s/epoch - 88ms/step\n",
            "Epoch 6/10\n",
            "782/782 - 69s - loss: 0.8072 - accuracy: 0.7193 - 69s/epoch - 88ms/step\n",
            "Epoch 7/10\n",
            "782/782 - 72s - loss: 0.7519 - accuracy: 0.7394 - 72s/epoch - 93ms/step\n",
            "Epoch 8/10\n",
            "782/782 - 69s - loss: 0.7093 - accuracy: 0.7549 - 69s/epoch - 88ms/step\n",
            "Epoch 9/10\n",
            "782/782 - 69s - loss: 0.6616 - accuracy: 0.7694 - 69s/epoch - 88ms/step\n",
            "Epoch 10/10\n",
            "782/782 - 70s - loss: 0.6288 - accuracy: 0.7818 - 70s/epoch - 89ms/step\n",
            "157/157 - 4s - loss: 0.9201 - accuracy: 0.6997 - 4s/epoch - 25ms/step\n"
          ]
        },
        {
          "output_type": "execute_result",
          "data": {
            "text/plain": [
              "[0.9200742244720459, 0.6996999979019165]"
            ]
          },
          "metadata": {},
          "execution_count": 4
        }
      ]
    },
    {
      "cell_type": "markdown",
      "source": [
        "**Regularization**\n",
        "\n",
        "---\n",
        "\n",
        "\n"
      ],
      "metadata": {
        "id": "geWytCjtwpl-"
      }
    },
    {
      "cell_type": "code",
      "source": [
        "\n",
        "model = keras.Sequential(\n",
        "    [\n",
        "        keras.Input(shape=(32, 32, 3)),\n",
        "        layers.Conv2D(32, 3, padding=\"valid\", activation=\"relu\", kernel_regularizer=regularizers.l2(0.01)),\n",
        "        layers.MaxPooling2D(),\n",
        "        layers.Conv2D(64, 3, activation=\"relu\", kernel_regularizer=regularizers.l2(0.01)),\n",
        "        layers.MaxPooling2D(),\n",
        "        layers.Conv2D(128, 3, activation=\"relu\", kernel_regularizer=regularizers.l2(0.01)),\n",
        "        layers.Flatten(),\n",
        "        layers.Dense(64, activation=\"relu\", kernel_regularizer=regularizers.l2(0.01)),\n",
        "        layers.Dense(10),\n",
        "    ]\n",
        ")"
      ],
      "metadata": {
        "id": "uA9972ASrDwj"
      },
      "execution_count": null,
      "outputs": []
    },
    {
      "cell_type": "code",
      "source": [
        "model.compile(\n",
        "    loss=keras.losses.SparseCategoricalCrossentropy(from_logits=True),\n",
        "    optimizer=keras.optimizers.Adam(lr=3e-4),\n",
        "    metrics=[\"accuracy\"],\n",
        ")\n",
        "\n",
        "model.fit(x_train, y_train, batch_size=64, epochs=10, verbose=2)\n",
        "model.evaluate(x_test, y_test, batch_size=64, verbose=2)"
      ],
      "metadata": {
        "colab": {
          "base_uri": "https://localhost:8080/"
        },
        "id": "4NqoH-lhxVpi",
        "outputId": "7287dc40-b52e-431a-c093-444934a8ab2a"
      },
      "execution_count": null,
      "outputs": [
        {
          "output_type": "stream",
          "name": "stderr",
          "text": [
            "WARNING:absl:`lr` is deprecated in Keras optimizer, please use `learning_rate` or use the legacy optimizer, e.g.,tf.keras.optimizers.legacy.Adam.\n"
          ]
        },
        {
          "output_type": "stream",
          "name": "stdout",
          "text": [
            "Epoch 1/10\n",
            "782/782 - 72s - loss: 2.0635 - accuracy: 0.3213 - 72s/epoch - 91ms/step\n",
            "Epoch 2/10\n",
            "782/782 - 68s - loss: 1.7988 - accuracy: 0.4109 - 68s/epoch - 87ms/step\n",
            "Epoch 3/10\n",
            "782/782 - 70s - loss: 1.7171 - accuracy: 0.4491 - 70s/epoch - 89ms/step\n",
            "Epoch 4/10\n",
            "782/782 - 68s - loss: 1.6741 - accuracy: 0.4711 - 68s/epoch - 87ms/step\n",
            "Epoch 5/10\n",
            "782/782 - 68s - loss: 1.6364 - accuracy: 0.4845 - 68s/epoch - 87ms/step\n",
            "Epoch 6/10\n",
            "782/782 - 69s - loss: 1.6056 - accuracy: 0.5031 - 69s/epoch - 89ms/step\n",
            "Epoch 7/10\n",
            "782/782 - 68s - loss: 1.5820 - accuracy: 0.5149 - 68s/epoch - 87ms/step\n",
            "Epoch 8/10\n",
            "782/782 - 68s - loss: 1.5550 - accuracy: 0.5287 - 68s/epoch - 87ms/step\n",
            "Epoch 9/10\n",
            "782/782 - 68s - loss: 1.5344 - accuracy: 0.5395 - 68s/epoch - 87ms/step\n",
            "Epoch 10/10\n",
            "782/782 - 68s - loss: 1.5190 - accuracy: 0.5510 - 68s/epoch - 87ms/step\n",
            "157/157 - 4s - loss: 1.4926 - accuracy: 0.5609 - 4s/epoch - 23ms/step\n"
          ]
        },
        {
          "output_type": "execute_result",
          "data": {
            "text/plain": [
              "[1.492557406425476, 0.5608999729156494]"
            ]
          },
          "metadata": {},
          "execution_count": 8
        }
      ]
    },
    {
      "cell_type": "code",
      "source": [],
      "metadata": {
        "id": "nI1OE4unxsmJ"
      },
      "execution_count": null,
      "outputs": []
    }
  ]
}