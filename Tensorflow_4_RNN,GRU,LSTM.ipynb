{
  "nbformat": 4,
  "nbformat_minor": 0,
  "metadata": {
    "colab": {
      "provenance": [],
      "authorship_tag": "ABX9TyMkp4P90HDHDmSxaVqoY3jx",
      "include_colab_link": true
    },
    "kernelspec": {
      "name": "python3",
      "display_name": "Python 3"
    },
    "language_info": {
      "name": "python"
    }
  },
  "cells": [
    {
      "cell_type": "markdown",
      "metadata": {
        "id": "view-in-github",
        "colab_type": "text"
      },
      "source": [
        "<a href=\"https://colab.research.google.com/github/Nihir2904/DeepLearning101/blob/main/Tensorflow_4_RNN%2CGRU%2CLSTM.ipynb\" target=\"_parent\"><img src=\"https://colab.research.google.com/assets/colab-badge.svg\" alt=\"Open In Colab\"/></a>"
      ]
    },
    {
      "cell_type": "code",
      "execution_count": 3,
      "metadata": {
        "id": "_J3NHTzE4KXd"
      },
      "outputs": [],
      "source": [
        "import tensorflow as tf\n",
        "from tensorflow import keras\n",
        "from tensorflow.keras import layers\n",
        "from tensorflow.keras.datasets import mnist"
      ]
    },
    {
      "cell_type": "code",
      "source": [
        "(x_train,y_train), (x_test,y_test) = mnist.load_data()\n",
        "x_train = x_train.astype(\"float\")/255.0\n",
        "x_test = x_test.astype(\"float\")/255.0"
      ],
      "metadata": {
        "id": "HsVvUXyq4XZf"
      },
      "execution_count": 5,
      "outputs": []
    },
    {
      "cell_type": "code",
      "source": [
        "model = keras.Sequential()\n",
        "model.add(keras.Input(shape=(None, 28)))#we use none here because we don't need to specify the time steps, 28is the no. of pixels\n",
        "model.add(layers.SimpleRNN(256, return_sequences=True, activation=\"relu\"))\n",
        "model.add(layers.SimpleRNN(256, activation=\"relu\"))\n",
        "model.add(layers.Dense(10))\n",
        "\n",
        "model.compile(\n",
        "    loss=keras.losses.SparseCategoricalCrossentropy(from_logits=True),\n",
        "    optimizer=keras.optimizers.Adam(lr=0.001),\n",
        "    metrics=[\"accuracy\"],\n",
        ")\n",
        "\n",
        "model.fit(x_train, y_train, batch_size=64, epochs=10, verbose=2)\n",
        "model.evaluate(x_test, y_test, batch_size=64, verbose=2)"
      ],
      "metadata": {
        "colab": {
          "base_uri": "https://localhost:8080/"
        },
        "id": "Dqdnnpuu5NII",
        "outputId": "d248bd1c-8aeb-4d5a-ba68-6c841f5f2bca"
      },
      "execution_count": 7,
      "outputs": [
        {
          "output_type": "stream",
          "name": "stderr",
          "text": [
            "WARNING:absl:`lr` is deprecated in Keras optimizer, please use `learning_rate` or use the legacy optimizer, e.g.,tf.keras.optimizers.legacy.Adam.\n"
          ]
        },
        {
          "output_type": "stream",
          "name": "stdout",
          "text": [
            "Epoch 1/10\n",
            "938/938 - 98s - loss: 0.3071 - accuracy: 0.9044 - 98s/epoch - 104ms/step\n",
            "Epoch 2/10\n",
            "938/938 - 92s - loss: 0.1237 - accuracy: 0.9657 - 92s/epoch - 98ms/step\n",
            "Epoch 3/10\n",
            "938/938 - 91s - loss: 0.1044 - accuracy: 0.9712 - 91s/epoch - 97ms/step\n",
            "Epoch 4/10\n",
            "938/938 - 92s - loss: 0.0907 - accuracy: 0.9748 - 92s/epoch - 98ms/step\n",
            "Epoch 5/10\n",
            "938/938 - 92s - loss: 0.0777 - accuracy: 0.9788 - 92s/epoch - 98ms/step\n",
            "Epoch 6/10\n",
            "938/938 - 91s - loss: 0.0750 - accuracy: 0.9791 - 91s/epoch - 98ms/step\n",
            "Epoch 7/10\n",
            "938/938 - 92s - loss: 0.0708 - accuracy: 0.9808 - 92s/epoch - 98ms/step\n",
            "Epoch 8/10\n",
            "938/938 - 91s - loss: 0.0658 - accuracy: 0.9819 - 91s/epoch - 97ms/step\n",
            "Epoch 9/10\n",
            "938/938 - 91s - loss: 0.0665 - accuracy: 0.9816 - 91s/epoch - 97ms/step\n",
            "Epoch 10/10\n",
            "938/938 - 91s - loss: 0.0610 - accuracy: 0.9832 - 91s/epoch - 97ms/step\n",
            "157/157 - 6s - loss: 0.0683 - accuracy: 0.9821 - 6s/epoch - 37ms/step\n"
          ]
        },
        {
          "output_type": "execute_result",
          "data": {
            "text/plain": [
              "[0.06834728270769119, 0.9821000099182129]"
            ]
          },
          "metadata": {},
          "execution_count": 7
        }
      ]
    },
    {
      "cell_type": "code",
      "source": [
        "model = keras.Sequential()\n",
        "model.add(keras.Input(shape=(None, 28)))\n",
        "model.add(layers.GRU(256, return_sequences=True, activation=\"relu\"))\n",
        "model.add(layers.GRU(256))\n",
        "model.add(layers.Dense(10))\n",
        "\n",
        "model.compile(\n",
        "    loss=keras.losses.SparseCategoricalCrossentropy(from_logits=True),\n",
        "    optimizer=keras.optimizers.Adam(lr=0.001),\n",
        "    metrics=[\"accuracy\"],\n",
        ")\n",
        "\n",
        "model.fit(x_train, y_train, batch_size=64, epochs=5, verbose=2)\n",
        "model.evaluate(x_test, y_test, batch_size=64, verbose=2)"
      ],
      "metadata": {
        "id": "idXuWR8O7hcE"
      },
      "execution_count": null,
      "outputs": []
    },
    {
      "cell_type": "code",
      "source": [
        "model = keras.Sequential()\n",
        "model.add(keras.Input(shape=(None, 28)))\n",
        "model.add(\n",
        "    layers.Bidirectional(layers.LSTM(256, return_sequences=True, activation=\"relu\"))\n",
        ")\n",
        "model.add(layers.LSTM(256, name=\"lstm_layer2\"))\n",
        "model.add(layers.Dense(10))\n",
        "\n",
        "model = keras.Sequential()\n",
        "model.add(keras.Input(shape=(None, 28)))\n",
        "model.add(\n",
        "    layers.Bidirectional(layers.LSTM(256, return_sequences=True, activation=\"relu\"))\n",
        ")\n",
        "model.add(layers.Bidirectional(layers.LSTM(256, name=\"lstm_layer2\")))\n",
        "model.add(layers.Dense(10))"
      ],
      "metadata": {
        "id": "8Ljddc1V8GLH"
      },
      "execution_count": null,
      "outputs": []
    }
  ]
}