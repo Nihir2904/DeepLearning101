{
  "nbformat": 4,
  "nbformat_minor": 0,
  "metadata": {
    "colab": {
      "provenance": [],
      "authorship_tag": "ABX9TyNso2mRE/c6sDRobj3UyCmp",
      "include_colab_link": true
    },
    "kernelspec": {
      "name": "python3",
      "display_name": "Python 3"
    },
    "language_info": {
      "name": "python"
    }
  },
  "cells": [
    {
      "cell_type": "markdown",
      "metadata": {
        "id": "view-in-github",
        "colab_type": "text"
      },
      "source": [
        "<a href=\"https://colab.research.google.com/github/Nihir2904/DeepLearning101/blob/main/Tensorflow_1_.ipynb\" target=\"_parent\"><img src=\"https://colab.research.google.com/assets/colab-badge.svg\" alt=\"Open In Colab\"/></a>"
      ]
    },
    {
      "cell_type": "code",
      "execution_count": 1,
      "metadata": {
        "id": "ndx4wXZ7VQo3"
      },
      "outputs": [],
      "source": [
        "import tensorflow as tf"
      ]
    },
    {
      "cell_type": "markdown",
      "source": [
        "**Initializing a tensor**\n",
        "\n",
        "---\n",
        "\n"
      ],
      "metadata": {
        "id": "Tg25aeEOXvgy"
      }
    },
    {
      "cell_type": "code",
      "source": [
        "x= tf.constant(4)\n",
        "print(x)"
      ],
      "metadata": {
        "colab": {
          "base_uri": "https://localhost:8080/"
        },
        "id": "mJIB9GYUWY0y",
        "outputId": "b285020a-ff08-4f08-a3d2-1bbfa4e490bf"
      },
      "execution_count": 6,
      "outputs": [
        {
          "output_type": "stream",
          "name": "stdout",
          "text": [
            "tf.Tensor(4, shape=(), dtype=int32)\n"
          ]
        }
      ]
    },
    {
      "cell_type": "code",
      "source": [
        "x= tf.constant(4, shape= (1,1))\n",
        "print(x)"
      ],
      "metadata": {
        "colab": {
          "base_uri": "https://localhost:8080/"
        },
        "id": "1DPAokueWnPs",
        "outputId": "6acba9e1-999b-4d66-d1ce-f3e6666514a6"
      },
      "execution_count": 7,
      "outputs": [
        {
          "output_type": "stream",
          "name": "stdout",
          "text": [
            "tf.Tensor([[4]], shape=(1, 1), dtype=int32)\n"
          ]
        }
      ]
    },
    {
      "cell_type": "code",
      "source": [
        "x= tf.constant([[4,1,3],[1,2,3]])\n",
        "print(x)"
      ],
      "metadata": {
        "colab": {
          "base_uri": "https://localhost:8080/"
        },
        "id": "rqGduebZW2E3",
        "outputId": "a13153fc-a64c-440d-d144-ab0917db9a89"
      },
      "execution_count": 8,
      "outputs": [
        {
          "output_type": "stream",
          "name": "stdout",
          "text": [
            "tf.Tensor(\n",
            "[[4 1 3]\n",
            " [1 2 3]], shape=(2, 3), dtype=int32)\n"
          ]
        }
      ]
    },
    {
      "cell_type": "code",
      "source": [
        "x= tf.ones((3,3,3))\n",
        "print(x)"
      ],
      "metadata": {
        "colab": {
          "base_uri": "https://localhost:8080/"
        },
        "id": "On8gTqZpXTG5",
        "outputId": "2c671754-f5d8-4d6d-b833-761ba64ddf03"
      },
      "execution_count": 10,
      "outputs": [
        {
          "output_type": "stream",
          "name": "stdout",
          "text": [
            "tf.Tensor(\n",
            "[[[1. 1. 1.]\n",
            "  [1. 1. 1.]\n",
            "  [1. 1. 1.]]\n",
            "\n",
            " [[1. 1. 1.]\n",
            "  [1. 1. 1.]\n",
            "  [1. 1. 1.]]\n",
            "\n",
            " [[1. 1. 1.]\n",
            "  [1. 1. 1.]\n",
            "  [1. 1. 1.]]], shape=(3, 3, 3), dtype=float32)\n"
          ]
        }
      ]
    },
    {
      "cell_type": "code",
      "source": [
        "x= tf.random.normal((3,3), mean= 0, stddev = 1)\n",
        "print(x)"
      ],
      "metadata": {
        "colab": {
          "base_uri": "https://localhost:8080/"
        },
        "id": "MDgk48htYL4l",
        "outputId": "263af0ba-7748-4d9f-8389-ccd96e7ebc46"
      },
      "execution_count": 12,
      "outputs": [
        {
          "output_type": "stream",
          "name": "stdout",
          "text": [
            "tf.Tensor(\n",
            "[[ 0.22904159  1.423654   -0.8563526 ]\n",
            " [-1.2458755  -0.19341734  0.19512382]\n",
            " [-0.7650945  -0.27877486  2.0201907 ]], shape=(3, 3), dtype=float32)\n"
          ]
        }
      ]
    },
    {
      "cell_type": "code",
      "source": [
        "x= tf.random.uniform((1,3),minval=10,maxval=20)\n",
        "print(x)"
      ],
      "metadata": {
        "colab": {
          "base_uri": "https://localhost:8080/"
        },
        "id": "SD7gpJN5ZCH5",
        "outputId": "c6f09def-111e-46c3-f175-fe790e1ab924"
      },
      "execution_count": 13,
      "outputs": [
        {
          "output_type": "stream",
          "name": "stdout",
          "text": [
            "tf.Tensor([[18.431784 18.448385 18.522678]], shape=(1, 3), dtype=float32)\n"
          ]
        }
      ]
    },
    {
      "cell_type": "code",
      "source": [],
      "metadata": {
        "id": "EtpohxK5ar3T"
      },
      "execution_count": null,
      "outputs": []
    },
    {
      "cell_type": "markdown",
      "source": [
        "**Mathematical operations**\n",
        "\n",
        "---\n",
        "\n"
      ],
      "metadata": {
        "id": "X2ptYU21bWMX"
      }
    },
    {
      "cell_type": "markdown",
      "source": [
        "element wise"
      ],
      "metadata": {
        "id": "rTxEmo5wdQsS"
      }
    },
    {
      "cell_type": "code",
      "source": [
        "X = tf.constant([3,2,1])\n",
        "Y = tf.constant([7,8,1])\n",
        "Z= tf.add(X,Y)\n",
        "P = tf.subtract(Y,X)\n",
        "D = tf.divide(Y,X)\n",
        "M = tf.multiply(Y,X)\n",
        "print(Z,P,D,M)"
      ],
      "metadata": {
        "colab": {
          "base_uri": "https://localhost:8080/"
        },
        "id": "RaaOgy9ebfuA",
        "outputId": "39a4604e-a5ec-499e-e1c5-9c534d328414"
      },
      "execution_count": 17,
      "outputs": [
        {
          "output_type": "stream",
          "name": "stdout",
          "text": [
            "tf.Tensor([10 10  2], shape=(3,), dtype=int32) tf.Tensor([4 6 0], shape=(3,), dtype=int32) tf.Tensor([2.33333333 4.         1.        ], shape=(3,), dtype=float64) tf.Tensor([21 16  1], shape=(3,), dtype=int32)\n"
          ]
        }
      ]
    },
    {
      "cell_type": "markdown",
      "source": [
        "complete"
      ],
      "metadata": {
        "id": "Q5FMJFgEdTDT"
      }
    },
    {
      "cell_type": "code",
      "source": [
        "X = tf.constant([3,2,1])\n",
        "Y = tf.constant([7,8,1])\n",
        "Z = tf.tensordot(X,Y,axes=1)\n",
        "print(Z)"
      ],
      "metadata": {
        "colab": {
          "base_uri": "https://localhost:8080/"
        },
        "id": "L5kCYDrPcAmq",
        "outputId": "f4c6ab37-af6f-4786-a3ae-42087da2af2a"
      },
      "execution_count": 21,
      "outputs": [
        {
          "output_type": "stream",
          "name": "stdout",
          "text": [
            "tf.Tensor(38, shape=(), dtype=int32)\n"
          ]
        }
      ]
    },
    {
      "cell_type": "code",
      "source": [
        "z= X**2\n",
        "print(z)"
      ],
      "metadata": {
        "colab": {
          "base_uri": "https://localhost:8080/"
        },
        "id": "sAUBc2Xxdf1r",
        "outputId": "1b71347a-475e-4e6e-f33c-9f12e74f7361"
      },
      "execution_count": 23,
      "outputs": [
        {
          "output_type": "stream",
          "name": "stdout",
          "text": [
            "tf.Tensor([9 4 1], shape=(3,), dtype=int32)\n"
          ]
        }
      ]
    },
    {
      "cell_type": "code",
      "source": [],
      "metadata": {
        "id": "NCbNJo0qeSGl"
      },
      "execution_count": null,
      "outputs": []
    }
  ]
}