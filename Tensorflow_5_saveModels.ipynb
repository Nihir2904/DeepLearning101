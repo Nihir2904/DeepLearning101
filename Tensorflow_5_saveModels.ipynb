{
  "nbformat": 4,
  "nbformat_minor": 0,
  "metadata": {
    "colab": {
      "provenance": [],
      "authorship_tag": "ABX9TyMG/LklpPwhdTfaVya6SRsh",
      "include_colab_link": true
    },
    "kernelspec": {
      "name": "python3",
      "display_name": "Python 3"
    },
    "language_info": {
      "name": "python"
    }
  },
  "cells": [
    {
      "cell_type": "markdown",
      "metadata": {
        "id": "view-in-github",
        "colab_type": "text"
      },
      "source": [
        "<a href=\"https://colab.research.google.com/github/Nihir2904/DeepLearning101/blob/main/Tensorflow_5_saveModels.ipynb\" target=\"_parent\"><img src=\"https://colab.research.google.com/assets/colab-badge.svg\" alt=\"Open In Colab\"/></a>"
      ]
    },
    {
      "cell_type": "code",
      "execution_count": 7,
      "metadata": {
        "id": "n15RX4mWRTtg"
      },
      "outputs": [],
      "source": [
        "import tensorflow as tf\n",
        "from tensorflow import keras\n",
        "from tensorflow.keras import layers\n",
        "from tensorflow.keras.datasets import mnist"
      ]
    },
    {
      "cell_type": "code",
      "source": [
        "(x_train, y_train), (x_test, y_test) = mnist.load_data()\n",
        "x_train = x_train.reshape(-1, 28 * 28).astype(\"float32\") / 255.0\n",
        "x_test = x_test.reshape(-1, 28 * 28).astype(\"float32\") / 255.0"
      ],
      "metadata": {
        "id": "5uCD9VOOhn-I"
      },
      "execution_count": 8,
      "outputs": []
    },
    {
      "cell_type": "markdown",
      "source": [
        "1. How to save and load model weights\n",
        "2. Save and loading entire model (Serializing model)\n",
        "  - Saves weights\n",
        "  - Model architecture\n",
        "  - Training Configuration (model.compile())\n",
        "  - Optimizer and states"
      ],
      "metadata": {
        "id": "4l7MSMhBhxfI"
      }
    },
    {
      "cell_type": "code",
      "source": [
        "model1 = keras.Sequential([layers.Dense(64, activation=\"relu\"), layers.Dense(10)])\n",
        "model=model1\n",
        "model.compile(\n",
        "    loss=keras.losses.SparseCategoricalCrossentropy(from_logits=True),\n",
        "    optimizer=keras.optimizers.Adam(),\n",
        "    metrics=[\"accuracy\"],\n",
        ")\n",
        "model.fit(x_train, y_train, batch_size=32, epochs=2, verbose=2)\n",
        "model.evaluate(x_test, y_test, batch_size=32, verbose=2)\n",
        "model.save_weights('/home/saved_weights')"
      ],
      "metadata": {
        "colab": {
          "base_uri": "https://localhost:8080/"
        },
        "id": "Tn0R_qpJhs0O",
        "outputId": "b94701ee-6aef-4063-f779-07da3eb054b1"
      },
      "execution_count": 10,
      "outputs": [
        {
          "output_type": "stream",
          "name": "stdout",
          "text": [
            "Epoch 1/2\n",
            "1875/1875 - 5s - loss: 0.3064 - accuracy: 0.9138 - 5s/epoch - 3ms/step\n",
            "Epoch 2/2\n",
            "1875/1875 - 4s - loss: 0.1473 - accuracy: 0.9568 - 4s/epoch - 2ms/step\n",
            "313/313 - 1s - loss: 0.1210 - accuracy: 0.9643 - 880ms/epoch - 3ms/step\n"
          ]
        }
      ]
    },
    {
      "cell_type": "code",
      "source": [
        "model.load_weights('/home/saved_weights')\n",
        "model.compile(\n",
        "    loss=keras.losses.SparseCategoricalCrossentropy(from_logits=True),\n",
        "    optimizer=keras.optimizers.Adam(),\n",
        "    metrics=[\"accuracy\"],\n",
        ")\n",
        "model.fit(x_train, y_train, batch_size=32, epochs=2, verbose=2)\n",
        "model.evaluate(x_test, y_test, batch_size=32, verbose=2)"
      ],
      "metadata": {
        "colab": {
          "base_uri": "https://localhost:8080/"
        },
        "id": "mJt-z9w3lJJD",
        "outputId": "1ebeff44-44c4-4740-927c-020af2771f60"
      },
      "execution_count": 11,
      "outputs": [
        {
          "output_type": "stream",
          "name": "stdout",
          "text": [
            "Epoch 1/2\n",
            "1875/1875 - 7s - loss: 0.1062 - accuracy: 0.9686 - 7s/epoch - 4ms/step\n",
            "Epoch 2/2\n",
            "1875/1875 - 4s - loss: 0.0820 - accuracy: 0.9752 - 4s/epoch - 2ms/step\n",
            "313/313 - 1s - loss: 0.0990 - accuracy: 0.9698 - 562ms/epoch - 2ms/step\n"
          ]
        },
        {
          "output_type": "execute_result",
          "data": {
            "text/plain": [
              "[0.0989869013428688, 0.9697999954223633]"
            ]
          },
          "metadata": {},
          "execution_count": 11
        }
      ]
    },
    {
      "cell_type": "code",
      "source": [],
      "metadata": {
        "id": "oObdNAWInKB2"
      },
      "execution_count": null,
      "outputs": []
    },
    {
      "cell_type": "markdown",
      "source": [
        "**saving whole model**"
      ],
      "metadata": {
        "id": "XyPP47X8nFUR"
      }
    },
    {
      "cell_type": "code",
      "source": [
        "model1 = keras.Sequential([layers.Dense(64, activation=\"relu\"), layers.Dense(10)])\n",
        "model=model1\n",
        "model.compile(\n",
        "    loss=keras.losses.SparseCategoricalCrossentropy(from_logits=True),\n",
        "    optimizer=keras.optimizers.Adam(),\n",
        "    metrics=[\"accuracy\"],\n",
        ")\n",
        "model.fit(x_train, y_train, batch_size=32, epochs=2, verbose=2)\n",
        "model.evaluate(x_test, y_test, batch_size=32, verbose=2)\n",
        "model.save('/home/saved_model')"
      ],
      "metadata": {
        "colab": {
          "base_uri": "https://localhost:8080/"
        },
        "id": "giNdJo9rmiUn",
        "outputId": "6c3ec0f5-b30a-4045-a2e2-cc7c5a6397ed"
      },
      "execution_count": 12,
      "outputs": [
        {
          "output_type": "stream",
          "name": "stdout",
          "text": [
            "Epoch 1/2\n",
            "1875/1875 - 4s - loss: 0.3001 - accuracy: 0.9167 - 4s/epoch - 2ms/step\n",
            "Epoch 2/2\n",
            "1875/1875 - 5s - loss: 0.1450 - accuracy: 0.9584 - 5s/epoch - 2ms/step\n",
            "313/313 - 1s - loss: 0.1188 - accuracy: 0.9651 - 1s/epoch - 3ms/step\n"
          ]
        },
        {
          "output_type": "stream",
          "name": "stderr",
          "text": [
            "WARNING:absl:Found untraced functions such as _update_step_xla while saving (showing 1 of 1). These functions will not be directly callable after loading.\n"
          ]
        }
      ]
    },
    {
      "cell_type": "code",
      "source": [
        "model= keras.models.load_model('/home/saved_model')\n",
        "model.fit(x_train, y_train, batch_size=32, epochs=2, verbose=2)\n",
        "model.evaluate(x_test, y_test, batch_size=32, verbose=2)"
      ],
      "metadata": {
        "colab": {
          "base_uri": "https://localhost:8080/"
        },
        "id": "Fe8eDJ-Onqpn",
        "outputId": "59f1f4e9-9211-4216-8e75-e25eed65575f"
      },
      "execution_count": 13,
      "outputs": [
        {
          "output_type": "stream",
          "name": "stdout",
          "text": [
            "Epoch 1/2\n",
            "1875/1875 - 5s - loss: 0.1067 - accuracy: 0.9689 - 5s/epoch - 2ms/step\n",
            "Epoch 2/2\n",
            "1875/1875 - 6s - loss: 0.0819 - accuracy: 0.9755 - 6s/epoch - 3ms/step\n",
            "313/313 - 1s - loss: 0.1060 - accuracy: 0.9682 - 1s/epoch - 4ms/step\n"
          ]
        },
        {
          "output_type": "execute_result",
          "data": {
            "text/plain": [
              "[0.1059618890285492, 0.9682000279426575]"
            ]
          },
          "metadata": {},
          "execution_count": 13
        }
      ]
    },
    {
      "cell_type": "markdown",
      "source": [
        "compilation is not required"
      ],
      "metadata": {
        "id": "JLeswi6yoIms"
      }
    },
    {
      "cell_type": "code",
      "source": [],
      "metadata": {
        "id": "6vVM3W0ooHh7"
      },
      "execution_count": null,
      "outputs": []
    }
  ]
}